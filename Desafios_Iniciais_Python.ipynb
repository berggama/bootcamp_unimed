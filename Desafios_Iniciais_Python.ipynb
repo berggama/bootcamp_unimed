{
  "nbformat": 4,
  "nbformat_minor": 0,
  "metadata": {
    "colab": {
      "provenance": [],
      "authorship_tag": "ABX9TyOIBWgDdZj4gPE+/A0V1Oz5",
      "include_colab_link": true
    },
    "kernelspec": {
      "name": "python3",
      "display_name": "Python 3"
    },
    "language_info": {
      "name": "python"
    }
  },
  "cells": [
    {
      "cell_type": "markdown",
      "metadata": {
        "id": "view-in-github",
        "colab_type": "text"
      },
      "source": [
        "<a href=\"https://colab.research.google.com/github/berggama/bootcamp_unimed/blob/main/Desafios_Iniciais_Python.ipynb\" target=\"_parent\"><img src=\"https://colab.research.google.com/assets/colab-badge.svg\" alt=\"Open In Colab\"/></a>"
      ]
    },
    {
      "cell_type": "code",
      "source": [
        "'''\n",
        "### DIO\n",
        "##Desafios Iniciais Py - Unimed-BH\n",
        "- Desafio 1\n",
        "\n",
        "Saruman, o Branco, um grande mago da Terra-média, traiu os bons costumes e se filiou ao lorde do mal, Sauron. Sauron comanda a torre de Minas Morgul, \n",
        "que abriga um dos seus mais temidos servos, o Rei Bruxo de Angmar, um dos Nazgûl (antigos reis humanos que foram corrompidos pelos poderes dos anéis de Sauron). \n",
        "Saruman comanda a torre de Orthanc, onde cria seus servos Uruk-hai, orcs mais terríveis que os convencionais. Para comunicação, eles utilizam as relíquias\n",
        "esféricas chamadas Palantír, que ficam no topo de suas torres.\n",
        "A Terra-média avança cada vez mais em tecnologia, muito impulsionada pelas guerras que a acometem diariamente. Um dos problemas que tem atrapalhado sua \n",
        "população é a Interferência de Comunicação Mágica (ICM). Os estudiosos de Minas Tirith, grande cidadela de Gondor, concluíram que para calcular o ICM para \n",
        "Palantír’s, basta dividir a distância entre os dois Palantír’s, pela soma do diâmetro dos mesmos. Gandalf, o Cinza, chegou a questionar essa conclusão, \n",
        "alegando que ela não fazia muito sentido, mas ele mesmo concluiu que dar sentido às coisas não faz sentido.\n",
        "Saruman e Sauron precisam de uma comunicação estável, pois têm medo que Frodo e seus amigos consigam atrapalhar seus planos, portanto, querem saber quanto de \n",
        "ICM há na comunicação de seus Palantír’s, para que saibam quanto de magia devem empregar na comunicação.\n",
        "\n",
        "Entrada\n",
        "A entrada é composta por 3 inteiros, N(0 < N < 10000), X e Y(0 < X, Y < 100), que indicam, respectivamente, a distância entre os Palantír, o diâmetro do \n",
        "Palantír de Sauron e o diâmetro do Palantír de Saruman.\n",
        "\n",
        "Saída\n",
        "Um valor real indicando o ICM da comunicação dos Palatír de Sauron e Saruman, com 2 casas decimais.\n",
        "'''\n",
        "\n",
        "#solicitar dados de entrada enquanto os dados não tiverem sido preenchidos corretamente\n",
        "while True:\n",
        "  try:\n",
        "    #solicitando dados de entrada\n",
        "    entrada = input().split()\n",
        "    #separando cada valor e atribuindo a uma variável especifica\n",
        "    distancia = int(entrada[0])\n",
        "    diametro1 = int(entrada[1])\n",
        "    diametro2 = int(entrada[2])\n",
        "\n",
        "    #caso as restrições não sejam respeitadas, repetir o processo de input\n",
        "    if (not 0 < distancia < 1000) or (not diametro1 > 0) or (not diametro2<1000):\n",
        "      raise ValueError('Valor fora do intervalo permitido')\n",
        "    else:\n",
        "      break\n",
        "  except ValueError as error:\n",
        "        print(error)\n",
        "\n",
        "#caso o loop termine, calcular a informação de saída\n",
        "saida1 = distancia/(diametro1 + diametro2)\n",
        "print(f'{saida1: .2f}')"
      ],
      "metadata": {
        "colab": {
          "base_uri": "https://localhost:8080/"
        },
        "id": "odN68athsPyn",
        "outputId": "2b0cb92b-3971-455d-82f2-2cabc1dd0e55"
      },
      "execution_count": 40,
      "outputs": [
        {
          "output_type": "stream",
          "name": "stdout",
          "text": [
            "10 10 10\n",
            " 0.50\n"
          ]
        }
      ]
    },
    {
      "cell_type": "code",
      "source": [
        "'''\n",
        "### DIO\n",
        "##Desafios Iniciais Py - Unimed-BH\n",
        "- Desafio 2\n",
        "\n",
        "Em 2012 foi alcançado um novo recorde mundial na famosa Competição de Cachorros-Quentes do Nathan: o campeão, Joey Chestnut, devorou 68 cachorros-quentes em \n",
        "dez minutos, um aumento incrível em relação aos 62 sanduíches devorados pelo mesmo Chestnut em 2011.\n",
        "O restaurante Nathan’s Famous Corporation, localizado no Brooklyn, NY, é o responsável pela competição. Eles produzem deliciosos cachorros-quentes, \n",
        "mundialmente famosos, mas quando o assunto é matemática eles não são tão bons. Eles desejam ser listados no Livro de Recordes do Guinness, mas para isso devem \n",
        "preencher um formulário descrevendo os fatos básicos da competição. Em particular, eles devem informar o número médio de cachorros-quentes consumidos pelos \n",
        "participantes durante a competição.\n",
        "Você pode ajudá-los? Eles prometeram pagá-lo com um dos seus saborosos cachorros-quentes. Dados o número total de cachorros-quentes consumidos e o número \n",
        "total de participantes na competição, você deve escrever um programa para determinar o número médio de cachorros-quentes consumidos pelos participantes.\n",
        "\n",
        "Entrada\n",
        "A entrada consiste de uma única linha que contém dois inteiros H e P (1 ≤ H, P ≤ 1000) indicando respectivamente o número total de cachorros-quentes \n",
        "consumidos e o número total de participantes na competição.\n",
        "\n",
        "Saída\n",
        "Seu programa deve produzir uma única linha com um número racional representando o número médio de cachorros-quentes consumidos pelos participantes. \n",
        "O resultado deve ser escrito como um número racional com exatamente dois dígitos após o ponto decimal, arredondado se necessário.\n",
        "'''\n",
        "\n",
        "while True:\n",
        "  try:\n",
        "    valores = input().split() \n",
        "    h = int(valores[0])\n",
        "    p = int(valores[1])\n",
        "\n",
        "    if (not 0 <= h) or (not p <= 1000):\n",
        "      raise ValueError('Valor fora do intervalo permitido')\n",
        "    else:\n",
        "      break\n",
        "  except ValueError as error:\n",
        "        print(error)\n",
        "\n",
        "saida2 = h/p\n",
        "print(f'{saida2: .2f}')"
      ],
      "metadata": {
        "colab": {
          "base_uri": "https://localhost:8080/"
        },
        "id": "O4F8A9ykpMws",
        "outputId": "60c67952-492c-436b-b1ab-1b3be78f63f5"
      },
      "execution_count": null,
      "outputs": [
        {
          "output_type": "stream",
          "name": "stdout",
          "text": [
            "10 90\n",
            " 0.11\n",
            "10 90\n"
          ]
        }
      ]
    },
    {
      "cell_type": "code",
      "source": [
        "'''\n",
        "### DIO\n",
        "##Desafios Iniciais Py - Unimed-BH\n",
        "- Desafio 3\n",
        "\n",
        "Rubens quer calcular e mostrar a quantidade de litros de combustível gastos em uma viagem de carro, sendo que seu carro faz 12 KM/L. Como ele não sabe fazer\n",
        "um programa que o auxilie nessa missão, ele te pede ajuda. Para efetuar o cálculo, deve-se fornecer o tempo gasto em horas na viagem e a velocidade média \n",
        "durante a mesma em km/h. Assim, você conseguirá passar para Rubens qual a distância percorrida e, em seguida, calcular quantos litros serão necessários \n",
        "para a viagem que ele quer fazer. Mostre o valor com 3 casas decimais após o ponto.\n",
        "\n",
        "Entrada\n",
        "O arquivo de entrada contém dois inteiros. O primeiro é o tempo gasto na viagem em horas e o segundo é a velocidade média durante a mesma em km/h.\n",
        "\n",
        "Saída\n",
        "Imprima a quantidade de litros necessária para realizar a viagem, com três dígitos após o ponto decimal\n",
        "'''\n",
        "\n",
        "while True:\n",
        "  try:\n",
        "    dados = input().split() \n",
        "    t = int(dados[0])\n",
        "    v = int(dados[1])\n",
        "\n",
        "    if (not 0 < t) or (not v > 0):\n",
        "      raise ValueError('Valor fora do intervalo permitido')\n",
        "    else:\n",
        "      break\n",
        "  except ValueError as error:\n",
        "        print(error)\n",
        "\n",
        "saida3 = (t*v)/12\n",
        "print(f'{saida3: .3f}')\n"
      ],
      "metadata": {
        "colab": {
          "base_uri": "https://localhost:8080/"
        },
        "id": "V5Ad7fIYpbSv",
        "outputId": "066c2cb2-f4a1-48ba-f193-3c6391ef28ab"
      },
      "execution_count": null,
      "outputs": [
        {
          "output_type": "stream",
          "name": "stdout",
          "text": [
            "10 85\n",
            " 70.833\n"
          ]
        }
      ]
    }
  ]
}