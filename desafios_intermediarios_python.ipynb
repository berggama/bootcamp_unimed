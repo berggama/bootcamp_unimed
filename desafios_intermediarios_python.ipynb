{
  "nbformat": 4,
  "nbformat_minor": 0,
  "metadata": {
    "colab": {
      "provenance": [],
      "authorship_tag": "ABX9TyMw8D9JnBGF5U+3KjgRpWfg"
    },
    "kernelspec": {
      "name": "python3",
      "display_name": "Python 3"
    },
    "language_info": {
      "name": "python"
    }
  },
  "cells": [
    {
      "cell_type": "markdown",
      "source": [
        "# Desafio - 1\n",
        "Dada a letra N do alfabeto, nos diga qual a sua posição.\n",
        "\n",
        "## Entrada\n",
        "Um único caracter N, uma letra maiúscula ('A'-'Z') do alfabeto (que contém 26 letras).\n",
        "\n",
        "## Saída\n",
        "Um único inteiro, que representa a posição da letra no alfabeto.\n",
        "\n",
        "## Solução"
      ],
      "metadata": {
        "id": "nbs5-mwdwEN3"
      }
    },
    {
      "cell_type": "code",
      "source": [
        "def posicao(numero):\n",
        "  alfabeto = 'ABCDEFGHIJKLMNOPQRSTUVXWYZ'\n",
        "  print(alfabeto.find(numero)+1)\n",
        "  \n",
        "letra = input().upper()\n",
        "posicao(letra)"
      ],
      "metadata": {
        "colab": {
          "base_uri": "https://localhost:8080/"
        },
        "id": "lgk4JMdywSFN",
        "outputId": "b2a457b9-9522-43a8-d8d5-438b343b1962"
      },
      "execution_count": 19,
      "outputs": [
        {
          "output_type": "stream",
          "name": "stdout",
          "text": [
            "y\n",
            "25\n"
          ]
        }
      ]
    },
    {
      "cell_type": "markdown",
      "source": [
        "#Desafio - 2\n",
        "Humberto tem um papagaio muito esperto. Quando está com as duas pernas no chão, o papagaio fala em português. Quando levanta a perna esquerda, fala em inglês. Por fim, quando levanta a direita fala em francês. Nico, amigo de Humberto, ficou fascinado com o animal. Em sua emoção perguntou: “E quando ele levanta as duas?”. Antes que Humberto pudesse responder, o papagaio gritou: “Aí eu caio, idiota!”.\n",
        "\n",
        "##Entrada\n",
        "A entrada consiste de diversos casos de teste. Cada caso de teste consiste uma string informando qual a situação de levantamento de pernas do papagaio.\n",
        "\n",
        "##Saída\n",
        "Para cada condição de levantamento de pernas do papagaio, imprima a linguagem que ele utilizará. Caso ele levante ambas as pernas, imprima “caiu”. Quebre uma linha a cada caso de teste.\n",
        "\n",
        "##Solução:"
      ],
      "metadata": {
        "id": "YP8SdBzFl52j"
      }
    },
    {
      "cell_type": "code",
      "execution_count": 8,
      "metadata": {
        "colab": {
          "base_uri": "https://localhost:8080/"
        },
        "id": "7p-PvmbLluzr",
        "outputId": "cd45c83e-fa03-472d-dad8-6ec7e1fb668a"
      },
      "outputs": [
        {
          "output_type": "stream",
          "name": "stdout",
          "text": [
            "esquerda\n",
            "ingles \n",
            "\n",
            "direta\n",
            "direita\n",
            "frances\n",
            "\n",
            "nenhuma\n",
            "portugues\n",
            "\n",
            "ambas\n",
            "caiu\n",
            "\n"
          ]
        }
      ],
      "source": [
        "while True:\n",
        "  try:\n",
        "    entrada = input().lower() #.split()\n",
        "    #primeiro = entrada[0]\n",
        "    #segundo = entrada[1]\n",
        "    #terceiro = entrada[2]\n",
        "    #quarto = entrada[3]\n",
        "  \n",
        "    if entrada == 'esquerda':\n",
        "      print('ingles \\n')\n",
        "    elif entrada == 'direita':\n",
        "      print('frances\\n')\n",
        "    elif entrada == 'nenhuma':\n",
        "      print('portugues\\n')\n",
        "    elif entrada == 'ambas':\n",
        "        print('caiu\\n')\n",
        "        break\n",
        "  except ValueError as error:\n",
        "        print(error)"
      ]
    },
    {
      "cell_type": "markdown",
      "source": [
        "#Desafio - 3\n",
        "\n",
        "A empresa que você trabalha resolveu conceder um aumento salarial a todos funcionários, de acordo com a tabela abaixo:\n",
        "\n",
        "Salário\tPercentual de Reajuste\n",
        "\n",
        "0 - 600.00 | 17%\n",
        "\n",
        "600.01 - 900.00  | 13%\n",
        "\n",
        "900.01 - 1500.00 | 12%\n",
        "\n",
        "1500.01 - 2000.00| 10%\n",
        "\n",
        "Acima de 2000.00 | 5%\n",
        "\n",
        "\n",
        "Leia o salário do funcionário e calcule e mostre o novo salário, bem como o valor de reajuste ganho e o índice reajustado, em percentual.\n",
        "\n",
        "A entrada contém apenas um valor de ponto flutuante, que pode ser maior ou igual a zero, com duas casas decimais.\n",
        "\n",
        "## Solução"
      ],
      "metadata": {
        "id": "SMu89Lq_rAir"
      }
    },
    {
      "cell_type": "code",
      "source": [
        "while True:\n",
        "  try:\n",
        "    salario = float(input()) \n",
        " \n",
        "    if (salario<=0):\n",
        "      raise ValueError('Valor fora do intervalo permitido')\n",
        "    else:\n",
        "      break\n",
        "  except ValueError as error:\n",
        "        print(error)\n",
        "\n",
        "if (0 < salario <= 600.00):\n",
        "  reajuste_percentual = 0.17\n",
        "elif (600.01 <= salario <= 900.00):\n",
        "  reajuste_percentual = 0.13\n",
        "elif (900.01 <= salario <= 1500.00):\n",
        "  reajuste_percentual = 0.12\n",
        "elif (1500.01 <= salario <= 2000.00):\n",
        "  reajuste_percentual = 0.10\n",
        "else:\n",
        "  reajuste_percentual = 0.05\n",
        "\n",
        "novo_salario = salario*(1+reajuste_percentual)\n",
        "reajuste = novo_salario - salario\n",
        "\n",
        "print(f'Novo salario: {novo_salario: .2f}\\n')\n",
        "print(f'Reajuste ganho: {reajuste: .2f}\\n')\n",
        "print(f'Em percentual: {reajuste_percentual*100: .0f}%\\n')"
      ],
      "metadata": {
        "colab": {
          "base_uri": "https://localhost:8080/"
        },
        "id": "FXauiZ7XoWpC",
        "outputId": "75ffbc2d-e7c0-4626-89d4-aacd7876b775"
      },
      "execution_count": 18,
      "outputs": [
        {
          "output_type": "stream",
          "name": "stdout",
          "text": [
            "2000\n",
            "Novo salario:  2200.00\n",
            "\n",
            "Reajuste ganho:  200.00\n",
            "\n",
            "Em percentual:  10%\n",
            "\n"
          ]
        }
      ]
    }
  ]
}